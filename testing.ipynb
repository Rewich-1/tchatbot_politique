{
 "cells": [
  {
   "cell_type": "code",
   "execution_count": 1,
   "metadata": {},
   "outputs": [],
   "source": [
    "from back.NLP import resume_parti_debat, get_debat_dossier, summarize\n",
    "\n",
    "url = \"https://www.nosdeputes.fr/16/dossier/1582\""
   ]
  },
  {
   "cell_type": "code",
   "execution_count": 2,
   "metadata": {},
   "outputs": [
    {
     "name": "stdout",
     "output_type": "stream",
     "text": [
      "oui\n",
      "['REN' 'LFI' 'GDR' 'LR' 'SOC' 'MODEM' 'RN' 'ECO' 'LIOT' 'app. LR' 'HOR'\n",
      " 'NI' 'app. SOC' 'app. REN' 'app. HOR']\n",
      "['REN' 'LFI' 'GDR' 'LR' 'SOC' 'MODEM' 'RN' 'ECO' 'LIOT' 'HOR' 'NI']\n"
     ]
    }
   ],
   "source": [
    "df = get_debat_dossier(url)\n",
    "concat = df.groupby('parti')['intervention'].apply(lambda x: ' '.join(x))"
   ]
  },
  {
   "cell_type": "code",
   "execution_count": 3,
   "metadata": {},
   "outputs": [
    {
     "data": {
      "text/plain": [
       "array(['REN', 'LFI', 'GDR', 'LR', 'SOC', 'MODEM', 'RN', 'ECO', 'LIOT',\n",
       "       'HOR', 'NI'], dtype=object)"
      ]
     },
     "execution_count": 3,
     "metadata": {},
     "output_type": "execute_result"
    }
   ],
   "source": [
    "df.parti.unique()"
   ]
  },
  {
   "cell_type": "code",
   "execution_count": 9,
   "metadata": {},
   "outputs": [
    {
     "name": "stdout",
     "output_type": "stream",
     "text": [
      "Parti ECO\n",
      "   C'est effectivement ce que vous faites : vous gonflez artificiellement ce taux en contraignant les gens occupant déjà un emploi à travailler plus longtemps, mais aussi tous ceux qui ne parviennent pas à en trouver un, qui ont plus de 60 ans et qui n'arrivent plus à travailler parce qu'ils sont brisés, fatigués, épuisés, à tomber dans la pauvreté.Vous le savez, 60 % des chômeurs de longue durée sont des personnes de plus de 55 ans, qui n'arrivent plus à travailler et qui subissent une discrimination dans l'emploi à cause de leur âge.\n",
      "\n",
      "Parti GDR\n",
      "   Puisqu'il faut bien faire bouillir la marmite, elles se rabattent généralement sur les métiers du lien – ceux d'aide à domicile ou d'agent horaire dans les collectivités locales ou la fonction publique hospitalière –, d'autant plus facilement que, depuis que vous avez cassé le statut de fonctionnaire, les différentes fonctions publiques – y compris territoriale – se précarisent de plus en plus, avec de plus en plus d'agents travaillant à temps partiel avec un contrat précaire.Lorsqu'elles exercent les métiers d'aide à domicile ou d'Atsem – agent territorial spécialisé des écoles maternelles – ou d'agent de service – c'est-à-dire de femme de ménages –, c'est à temps partiel, avec des horaires modulables.\n",
      "\n",
      "Parti HOR\n",
      "   Nous en venons à l'amendement n° 20313, qui fait l'objet de deux sous-amendements n° 20599 de Mme Stella Dupont et 20606 de M. Sébastien Peytavie.La parole est à M. Marc Ferracci, pour soutenir l'amendement n° 20313.\n",
      "\n",
      "Parti LFI\n",
      "   Puisque j'ai cité tout à l'heure la nouvelle de Herman Melville Bartleby, et que cela a bien plu, je continuerai « La Grande Librairie », étant donné qu'avec vous c'est plutôt la grande braderie des retraites ; il s'agit du témoignage de l'écrivain Joseph Ponthus, qui a travaillé en usine : « La pause / Cette foutue pause / Espérée rêvée attendue dès la prise de poste / Et même si elle sera de toute façon trop courte / Si elle vient trop tôt / Que d'heures encore à tirer / Si elle vient trop tard / N'en plus pouvoir n'en plus pouvoir / Elle sera […] Trente minutes / C'est tout dire / La pointeuse est évidemment avant ou après le vestiaire / Suivant que l'on quitte ou prenne son poste / C'est-à-dire / au moins quatre minutes de perdues / En se changeant au plus vite / Le temps d'aller à la salle commune chercher un café / Les couloirs les escaliers qui ne semblent jamais en finir […] Enfin à l'air / Enfin dehors / Clope / Regarder l'heure sur le portable / On va dire vingt minutes / Le bruit lancinant de l'usine me bercerait presque / Certains s'isolent dans leur voiture / D'autres mangent  \n",
      "[…] Il reste un petit quart d'heure / Combien de temps pour remonter / Se changer / Aller pisser / Le chef ne saurait évidemment tolérer que tu ailles aux chiottes l'heure précédant ou suivant la pause / T'as qu'à attendre un peu / T'avais qu'à y penser avant / Enfin je ne sais pas / Mais j'imagine  \n",
      "[…] Tâcher de gratter trente secondes d'air du dehors en sachant qu'il faudra encore plus speeder dans les couloirs les escaliers le vestiaire / Dernière latte de clope / Dernier coup d'œil au portable / Il faut remonter »  \n",
      "Ces mots sont ceux d'un homme qui a travaillé dans des usines d'agroalimentaire en Bretagne et qui est mort à 42 ans d'un cancer foudroyant, il y a quatre ans.\n",
      "\n",
      "Parti LIOT\n",
      "   Vous nous dites qu'il faudra travailler plus longtemps, repousser l'âge de départ à la retraite de deux ans, alors que vous n'avez même pas réglé la principale question que l'on se pose tous : à quoi cela va-t-il servir, puisque les entreprises ne veulent déjà plus embaucher ceux qui ont plus de 55 ans, quand elles n'essaient pas de s'en débarrasser ?Inciter à l'emploi des seniors, c'est par là qu'il aurait fallu commencer !\n",
      "\n",
      "Parti LR\n",
      "   Il en va de même, toujours selon cette source, pour le RSA – une augmentation de 150 millions –, pour l'allocation de solidarité spécifique – une hausse d'environ 170 millions –, et pour l'allocation d'aide au retour à l'emploi – 1,3 milliard supplémentaire.Le report de l'âge de la retraite entraînera donc des dépenses pour la sécurité sociale – on les estime à 1,5 milliard –, mais aussi pour l'État, qui verse l'AAH et le RSA – elles sont évaluées à un peu moins de 700 millions.Ma question de fond est la suivante : pouvez-vous nous indiquer précisément le montant, d'une part, des recettes supplémentaires et des économies que vous escomptez grâce au report de l'âge de la retraite, et donc au non-versement des pensions pendant deux ans, et, d'autre part, puisque ces personnes travailleront de 62 à 64 ans, des dépenses supplémentaires occasionnées pour l'État et pour la sécurité sociale ?\n",
      "\n",
      "Parti MODEM\n",
      "   Comme le veut la tradition, la commission des finances s'est saisie pour avis du projet de loi de financement rectificative de la sécurité sociale (PLFRSS) pour 2023 et a émis un avis favorable à son adoption le vendredi 30 janvier, au terme d'une journée qui aura permis de distinguer, d'un côté, celles et ceux d'entre nous qui, comme le Gouvernement, sont attachés à la protection et à la hausse du niveau de vie des retraités, à une répartition juste de l'effort des actifs et surtout à la préservation du système de retraite par répartition et, de l'autre, celles et ceux qui sont prêts à mettre en danger le service des pensions, voire à réduire leur montant, qui considèrent le travail comme une aliénation dont on ne guérirait qu'en interdisant aux entreprises de réussir et qui préfèrent financer les retraites au moyen de la dette, faisant peser l'effort sur les générations futures.\n",
      "\n",
      "Parti NI\n",
      "   \n",
      "Entre 2018 et 2022 – ce sera davantage encore dans les prochaines années –, nous avons consacré 4 milliards de plus par an à nourrir l'Union européenne ,  \n",
      "sans que cela vous gêne ; 200 millions par an selon la Cour des comptes, 1 milliard par an selon le magazine économique Capital, à entretenir à l'étranger des retraités morts depuis longtemps, sans que cela vous choque ; entre 10 et 20 milliards par an à la Sécurité sociale du fait des millions de fausses cartes Vitale, cela vous indiffère.\n",
      "\n",
      "Parti REN\n",
      "   Les signataires du sous-amendement n° 20599 estiment que l'incitation seule, liée à la publication de l'index seniors, ne suffira pas pour que toutes les entreprises, particulièrement les plus grandes, jouent le jeu en matière tant du maintien des seniors dans l'emploi que de leur embauche.Si l'amendement de M. Maillard était voté, il en ferait tomber d'autres, dont un amendement de Mme Dupont visant à rendre l'index seniors plus coercitif : il préconise de supprimer la réduction de 1,8 point du taux de cotisations d'allocations familiales aux rémunérations comprises entre 2,5 et 3,5 Smic pour les entreprises qui ne joueraient pas le jeu de l'emploi des seniors – les collègues qui ont participé à la commission des affaires sociales se souviennent de cette proposition.\n",
      "\n",
      "Parti RN\n",
      "   Voici le résultat du scrutin :Nombre de votants 250Nombre de suffrages exprimés 212Majorité absolue 107Pour l'adoption 67Contre 145  \n",
      "Sur les amendements identiques n° 1050 à 18047 , je suis saisie par le groupe Renaissance d'une demande de scrutin public.Le scrutin est annoncé dans l'enceinte de l'Assemblée nationale.Je suis saisie de onze amendements identiques, n° 1050 , 1083 , 1230 , 1564 , 2145 , 2373 , 4008 , 5963 , 13144 , 15237  et 18047 .Les amendements identiques n° 1050  de M. François Ruffin, 1083 de M. Matthias Tavel, 1230 de Mme Élisa Martin, 1564 de Mme Clémence Guetté, 2145 de M. Christophe Bex et 2373 de M. Emmanuel Fernandes sont défendus.La parole est à M. Jean-Hugues Ratenon, pour soutenir l'amendement n° 4008 .\n",
      "\n",
      "Parti SOC\n",
      "   L'article 1er est ainsi pour lui le moyen de faire croire que son projet de loi n'est que justice, alors qu'il est en réalité tout l'inverse.Il est ici question de 500 000 cotisants sur un total de 28 millions, et on essaie de faire croire que l'ensemble de ces régimes serait très coûteux pour les finances de l'État, ce qui est assez caricatural quand on sait que certaines réserves, notamment la caisse de la Banque de France ou celle des clercs de notaires, la CRPCEN – caisse de retraite et de prévoyance des clercs et employés de notaire –, sont particulièrement bien fournies.En réalité, il n'y a pas vraiment de logique dans le choix gouvernemental de supprimer certains régimes spéciaux et pas d'autres : lorsque vous supprimez le régime des gaziers mais non celui des sociétaires de la Comédie-Française – je n'ai rien contre ces derniers, évidemment –, vous comprendrez que nos concitoyens n'y voient absolument aucune logique.Dès lors que cette façon de procéder – par des suppressions à la carte – n'est comprise par personne, elle n'est qu'injustice ; c'est la raison pour laquelle nous vous demandons de bien vouloir retirer l'article 1er .\n",
      "\n"
     ]
    },
    {
     "name": "stderr",
     "output_type": "stream",
     "text": [
      "C:\\Users\\Glueg\\AppData\\Local\\Temp\\ipykernel_6652\\65471077.py:1: FutureWarning: iteritems is deprecated and will be removed in a future version. Use .items instead.\n",
      "  for key, value in concat.apply(summarize, n=1).iteritems():\n"
     ]
    }
   ],
   "source": [
    "for key, value in concat.apply(summarize, n=1).iteritems():\n",
    "    print(f\"Parti {key}\\n   {value}\\n\")"
   ]
  },
  {
   "cell_type": "code",
   "execution_count": null,
   "metadata": {},
   "outputs": [],
   "source": [
    "\"Voici un résumé de ce que les députés de chaque parti ont dit lors de ce débat : \\n\\n\" + concat.apply(summarize, n=3).to_string()"
   ]
  },
  {
   "cell_type": "code",
   "execution_count": 2,
   "metadata": {},
   "outputs": [
    {
     "data": {
      "text/plain": [
       "\"Voici un résumé de ce que les députés de chaque parti ont dit lors de ce débat : \\n\\nParti ECO\\n    C'est effectivement ce que vous faites\\xa0: vous gonflez artificiellement ce taux en contraignant les gens occupant déjà un emploi à travailler plus longtemps, mais aussi tous ceux qui ne parviennent pas à en trouver un, qui ont plus de 60 ans et qui n'arrivent plus à travailler parce qu'ils sont brisés, fatigués, épuisés, à tomber dans la pauvreté.Vous le savez, 60\\xa0% des chômeurs de longue durée sont des personnes de plus de 55 ans, qui n'arrivent plus à travailler et qui subissent une discrimination dans l'emploi à cause de leur âge.\\nParti GDR\\n    Puisqu'il faut bien faire bouillir la marmite, elles se rabattent généralement sur les métiers du lien – ceux d'aide à domicile ou d'agent horaire dans les collectivités locales ou la fonction publique hospitalière –, d'autant plus facilement que, depuis que vous avez cassé le statut de fonctionnaire, les différentes fonctions publiques – y compris territoriale – se précarisent de plus en plus, avec de plus en plus d'agents travaillant à temps partiel avec un contrat précaire.Lorsqu'elles exercent les métiers d'aide à domicile ou d'Atsem – agent territorial spécialisé des écoles maternelles – ou d'agent de service – c'est-à-dire de femme de ménages –, c'est à temps partiel, avec des horaires modulables.\\nParti HOR\\n    Nous en venons à l'amendement n° 20313, qui fait l'objet de deux sous-amendements n° 20599 de Mme Stella Dupont et 20606 de M. Sébastien Peytavie.La parole est à M. Marc Ferracci, pour soutenir l'amendement n° 20313.\\nParti LFI\\n    Puisque j'ai cité tout à l'heure la nouvelle de Herman Melville Bartleby, et que cela a bien plu, je continuerai\\xa0«\\xa0La Grande Librairie\\xa0», étant donné qu'avec vous c'est plutôt la grande braderie des retraites\\xa0; il s'agit du témoignage de l'écrivain Joseph Ponthus, qui a travaillé en usine\\xa0:\\xa0«\\xa0La pause / Cette foutue pause / Espérée rêvée attendue dès la prise de poste / Et même si elle sera de toute façon trop courte / Si elle vient trop tôt / Que d'heures encore à tirer / Si elle vient trop tard / N'en plus pouvoir n'en plus pouvoir / Elle sera […] Trente minutes / C'est tout dire / La pointeuse est évidemment avant ou après le vestiaire / Suivant que l'on quitte ou prenne son poste / C'est-à-dire / au moins quatre minutes de perdues / En se changeant au plus vite / Le temps d'aller à la salle commune chercher un café / Les couloirs les escaliers qui ne semblent jamais en finir […] Enfin à l'air / Enfin dehors / Clope / Regarder l'heure sur le portable / On va dire vingt minutes / Le bruit lancinant de l'usine me bercerait presque / Certains s'isolent dans leur voiture / D'autres mangent  \\n[…] Il reste un petit quart d'heure / Combien de temps pour remonter / Se changer / Aller pisser / Le chef ne saurait évidemment tolérer que tu ailles aux chiottes l'heure précédant ou suivant la pause / T'as qu'à attendre un peu / T'avais qu'à y penser avant / Enfin je ne sais pas / Mais j'imagine  \\n[…] Tâcher de gratter trente secondes d'air du dehors en sachant qu'il faudra encore plus speeder dans les couloirs les escaliers le vestiaire / Dernière latte de clope / Dernier coup d'œil au portable / Il faut remonter\\xa0»  \\nCes mots sont ceux d'un homme qui a travaillé dans des usines d'agroalimentaire en Bretagne et qui est mort à 42 ans d'un cancer foudroyant, il y a quatre ans.\\nParti LIOT\\n    Vous nous dites qu'il faudra travailler plus longtemps, repousser l'âge de départ à la retraite de deux ans, alors que vous n'avez même pas réglé la principale question que l'on se pose tous\\xa0: à quoi cela va-t-il servir, puisque les entreprises ne veulent déjà plus embaucher ceux qui ont plus de 55 ans, quand elles n'essaient pas de s'en débarrasser\\xa0?Inciter à l'emploi des seniors, c'est par là qu'il aurait fallu commencer\\xa0!\\nParti LR\\n    Il en va de même, toujours selon cette source, pour le RSA – une augmentation de 150 millions –, pour l'allocation de solidarité spécifique – une hausse d'environ 170 millions –, et pour l'allocation d'aide au retour à l'emploi – 1,3 milliard supplémentaire.Le report de l'âge de la retraite entraînera donc des dépenses pour la sécurité sociale – on les estime à 1,5 milliard –, mais aussi pour l'État, qui verse l'AAH et le RSA – elles sont évaluées à un peu moins de 700 millions.Ma question de fond est la suivante\\xa0: pouvez-vous nous indiquer précisément le montant, d'une part, des recettes supplémentaires et des économies que vous escomptez grâce au report de l'âge de la retraite, et donc au non-versement des pensions pendant deux ans, et, d'autre part, puisque ces personnes travailleront de 62 à 64 ans, des dépenses supplémentaires occasionnées pour l'État et pour la sécurité sociale\\xa0?\\nParti MODEM\\n    Comme le veut la tradition, la commission des finances s'est saisie pour avis du projet de loi de financement rectificative de la sécurité sociale (PLFRSS) pour 2023 et a émis un avis favorable à son adoption le vendredi 30 janvier, au terme d'une journée qui aura permis de distinguer, d'un côté, celles et ceux d'entre nous qui, comme le Gouvernement, sont attachés à la protection et à la hausse du niveau de vie des retraités, à une répartition juste de l'effort des actifs et surtout à la préservation du système de retraite par répartition et, de l'autre, celles et ceux qui sont prêts à mettre en danger le service des pensions, voire à réduire leur montant, qui considèrent le travail comme une aliénation dont on ne guérirait qu'en interdisant aux entreprises de réussir et qui préfèrent financer les retraites au moyen de la dette, faisant peser l'effort sur les générations futures.\\nParti NI\\n    \\nEntre 2018 et 2022 – ce sera davantage encore dans les prochaines années –, nous avons consacré 4 milliards de plus par an à nourrir l'Union européenne ,  \\nsans que cela vous gêne\\xa0; 200 millions par an selon la Cour des comptes, 1 milliard par an selon le magazine économique Capital, à entretenir à l'étranger des retraités morts depuis longtemps, sans que cela vous choque\\xa0; entre 10 et 20 milliards par an à la Sécurité sociale du fait des millions de fausses cartes Vitale, cela vous indiffère.\\nParti REN\\n    Les signataires du sous-amendement n° 20599 estiment que l'incitation seule, liée à la publication de l'index seniors, ne suffira pas pour que toutes les entreprises, particulièrement les plus grandes, jouent le jeu en matière tant du maintien des seniors dans l'emploi que de leur embauche.Si l'amendement de M. Maillard était voté, il en ferait tomber d'autres, dont un amendement de Mme Dupont visant à rendre l'index seniors plus coercitif\\xa0: il préconise de supprimer la réduction de 1,8 point du taux de cotisations d'allocations familiales aux rémunérations comprises entre 2,5 et 3,5 Smic pour les entreprises qui ne joueraient pas le jeu de l'emploi des seniors – les collègues qui ont participé à la commission des affaires sociales se souviennent de cette proposition.\\nParti RN\\n    Voici le résultat du scrutin\\xa0:Nombre de votants 250Nombre de suffrages exprimés 212Majorité absolue 107Pour l'adoption 67Contre 145  \\nSur les amendements identiques n° 1050 à 18047 , je suis saisie par le groupe Renaissance d'une demande de scrutin public.Le scrutin est annoncé dans l'enceinte de l'Assemblée nationale.Je suis saisie de onze amendements identiques, n° 1050 , 1083 , 1230 , 1564 , 2145 , 2373 , 4008 , 5963 , 13144 , 15237  et 18047 .Les amendements identiques n° 1050  de M. François Ruffin, 1083 de M. Matthias Tavel, 1230 de Mme Élisa Martin, 1564 de Mme Clémence Guetté, 2145 de M. Christophe Bex et 2373 de M. Emmanuel Fernandes sont défendus.La parole est à M. Jean-Hugues Ratenon, pour soutenir l'amendement n° 4008 .\\nParti SOC\\n    L'article 1er est ainsi pour lui le moyen de faire croire que son projet de loi n'est que justice, alors qu'il est en réalité tout l'inverse.Il est ici question de 500\\xa0000 cotisants sur un total de 28 millions, et on essaie de faire croire que l'ensemble de ces régimes serait très coûteux pour les finances de l'État, ce qui est assez caricatural quand on sait que certaines réserves, notamment la caisse de la Banque de France ou celle des clercs de notaires, la CRPCEN – caisse de retraite et de prévoyance des clercs et employés de notaire –, sont particulièrement bien fournies.En réalité, il n'y a pas vraiment de logique dans le choix gouvernemental de supprimer certains régimes spéciaux et pas d'autres\\xa0: lorsque vous supprimez le régime des gaziers mais non celui des sociétaires de la Comédie-Française – je n'ai rien contre ces derniers, évidemment –, vous comprendrez que nos concitoyens n'y voient absolument aucune logique.Dès lors que cette façon de procéder – par des suppressions à la carte – n'est comprise par personne, elle n'est qu'injustice\\xa0; c'est la raison pour laquelle nous vous demandons de bien vouloir retirer l'article 1er .\\n\""
      ]
     },
     "execution_count": 2,
     "metadata": {},
     "output_type": "execute_result"
    }
   ],
   "source": [
    "resume_parti_debat(url)"
   ]
  }
 ],
 "metadata": {
  "kernelspec": {
   "display_name": "NLP",
   "language": "python",
   "name": "python3"
  },
  "language_info": {
   "codemirror_mode": {
    "name": "ipython",
    "version": 3
   },
   "file_extension": ".py",
   "mimetype": "text/x-python",
   "name": "python",
   "nbconvert_exporter": "python",
   "pygments_lexer": "ipython3",
   "version": "3.9.16"
  },
  "orig_nbformat": 4,
  "vscode": {
   "interpreter": {
    "hash": "81de6e05458f24cb15582d6a634ae883d61ebcd960f22cb58032d5851cfddcd5"
   }
  }
 },
 "nbformat": 4,
 "nbformat_minor": 2
}
