{
 "cells": [
  {
   "cell_type": "code",
   "execution_count": 5,
   "metadata": {},
   "outputs": [],
   "source": [
    "import requests\n",
    "from bs4 import BeautifulSoup\n",
    "\n",
    "URL = \"https://www.nosdeputes.fr/16/dossier/1582\"\n",
    "page = requests.get(URL)\n",
    "\n",
    "soup = BeautifulSoup(page.content, \"html.parser\")"
   ]
  },
  {
   "cell_type": "code",
   "execution_count": 8,
   "metadata": {},
   "outputs": [
    {
     "name": "stdout",
     "output_type": "stream",
     "text": [
      "/16/seance/849#table_1582\n",
      "/16/seance/850#table_1582\n",
      "/16/seance/852#table_1582\n",
      "/16/seance/853#table_1582\n",
      "/16/seance/854#table_1582\n",
      "/16/seance/855#table_1582\n",
      "/16/seance/859#table_1582\n",
      "/16/seance/860#table_1582\n",
      "/16/seance/861#table_1582\n",
      "/16/seance/865#table_1582\n",
      "/16/seance/866#table_1582\n",
      "/16/seance/867#table_1582\n",
      "/16/seance/868#table_1582\n"
     ]
    }
   ],
   "source": [
    "links = soup.find(\"div\", class_=\"seances_dossier\").find_all(\"a\")\n",
    "for link in links:\n",
    "    print(link.get(\"href\"))"
   ]
  },
  {
   "cell_type": "code",
   "execution_count": 11,
   "metadata": {},
   "outputs": [],
   "source": [
    "URL = \"https://www.nosdeputes.fr\"+links[0].get(\"href\")\n",
    "page = requests.get(URL)\n",
    "\n",
    "soup = BeautifulSoup(page.content, \"html.parser\")"
   ]
  },
  {
   "cell_type": "code",
   "execution_count": null,
   "metadata": {},
   "outputs": [],
   "source": [
    "interventions = soup.get_all(\"div\", class_=\"intervention\")\n",
    "\n",
    "for i in range(0, len(interventions)):\n",
    "    if interventions[i].find(\"div\", id = \"table_1582\"):\n",
    "        interventions = interventions[i:]"
   ]
  }
 ],
 "metadata": {
  "kernelspec": {
   "display_name": "Python 3",
   "language": "python",
   "name": "python3"
  },
  "language_info": {
   "codemirror_mode": {
    "name": "ipython",
    "version": 3
   },
   "file_extension": ".py",
   "mimetype": "text/x-python",
   "name": "python",
   "nbconvert_exporter": "python",
   "pygments_lexer": "ipython3",
   "version": "3.9.6"
  },
  "orig_nbformat": 4,
  "vscode": {
   "interpreter": {
    "hash": "dd6fd65a8b47a7b63881235ff3d09a727f23d0f4bd517d1df3f2994be854fdba"
   }
  }
 },
 "nbformat": 4,
 "nbformat_minor": 2
}
