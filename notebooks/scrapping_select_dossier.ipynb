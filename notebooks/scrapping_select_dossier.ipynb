{
 "cells": [
  {
   "cell_type": "code",
   "execution_count": 1,
   "metadata": {},
   "outputs": [],
   "source": [
    "from bs4 import BeautifulSoup\n",
    "import requests\n",
    "import json"
   ]
  },
  {
   "cell_type": "code",
   "execution_count": 2,
   "metadata": {},
   "outputs": [
    {
     "name": "stdout",
     "output_type": "stream",
     "text": [
      "Février 2023 :\n",
      "Projet de loi de financement rectificative de la sécurité sociale pour 2023\n",
      "Questions au gouvernement\n",
      "Communication de mme la présidente de séance\n",
      "Censure avec exclusion temporaire d'un député\n",
      "Création d'un défenseur de l'environnement\n",
      "Renforcement de l'ordonnance de protection\n",
      "Lutte contre les dérives des influenceurs sur les réseaux sociaux\n",
      "Protéger le groupe Électricité de france d'un démembrement\n",
      "Protection des enfants victimes de violences intrafamiliales\n",
      "Tarif réduit aux étudiants boursiers et précaires\n",
      "Cout de la vie en outre-mer\n",
      "Constitution d'une commission spéciale\n",
      "Hommage aux victimes du séisme en turquie et en syrie\n",
      "Questions orales sans débat\n",
      "Communication de mme la présidente\n",
      "Accords sur le partage de l'information maritime et sur la coordination des opérations en mer dans l'océan indien occidental\n",
      "Conventions d'entraide judiciaire en matière pénale et d'extradition entre la france et le sénégal\n"
     ]
    }
   ],
   "source": [
    "target = \"Projet de loi de financement rectificative de la sécurité sociale pour 2023\"\n",
    "\n",
    "url = \"https://www.nosdeputes.fr/dossiers/date\"\n",
    "page = requests.get(url)\n",
    "soup = BeautifulSoup(page.content, \"html.parser\")\n",
    "\n",
    "table = soup.find('div', class_='travaux_parlementaires')\n",
    "lis =  table.find('li')\n",
    "date = table.find('h3')\n",
    "print(date.text)\n",
    "liss = lis.find_all('li')\n",
    "\n",
    "list_dossiers = []\n",
    "\n",
    "for i in liss:\n",
    "    dossier = {}\n",
    "    oui= i.find('a')\n",
    "    dossier[\"date\"] = date.text\n",
    "    dossier[\"link\"] = oui['href']\n",
    "    dossier[\"text\"] = oui.text\n",
    "    list_dossiers.append(dossier)\n",
    "\n",
    "value = \"voici la liste des dossiers de ce mois-ci :\"\n",
    "for i in list_dossiers:\n",
    "    value += i['text'] + \" \\n\"\n",
    "    print(i[\"text\"])\n"
   ]
  },
  {
   "cell_type": "code",
   "execution_count": null,
   "metadata": {},
   "outputs": [],
   "source": [
    "\n"
   ]
  },
  {
   "cell_type": "code",
   "execution_count": null,
   "metadata": {},
   "outputs": [],
   "source": []
  },
  {
   "cell_type": "code",
   "execution_count": null,
   "metadata": {},
   "outputs": [],
   "source": []
  },
  {
   "cell_type": "code",
   "execution_count": null,
   "metadata": {},
   "outputs": [],
   "source": []
  }
 ],
 "metadata": {
  "kernelspec": {
   "display_name": "base",
   "language": "python",
   "name": "python3"
  },
  "language_info": {
   "codemirror_mode": {
    "name": "ipython",
    "version": 3
   },
   "file_extension": ".py",
   "mimetype": "text/x-python",
   "name": "python",
   "nbconvert_exporter": "python",
   "pygments_lexer": "ipython3",
   "version": "3.9.13"
  },
  "orig_nbformat": 4,
  "vscode": {
   "interpreter": {
    "hash": "17d203b3035f27d34dcdc2437cbe7b635f83afb10f90c418367e6fba7ea27f11"
   }
  }
 },
 "nbformat": 4,
 "nbformat_minor": 2
}
