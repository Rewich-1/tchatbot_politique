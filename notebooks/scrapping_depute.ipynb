{
 "cells": [
  {
   "cell_type": "code",
   "execution_count": 1,
   "metadata": {},
   "outputs": [],
   "source": [
    "URL = \"https://www.assemblee-nationale.fr/dyn/deputes/PA795950\""
   ]
  },
  {
   "cell_type": "code",
   "execution_count": 2,
   "metadata": {},
   "outputs": [],
   "source": [
    "import requests\n",
    "from bs4 import BeautifulSoup\n",
    "page = requests.get(URL)\n",
    "\n",
    "soup = BeautifulSoup(page.content, \"html.parser\")"
   ]
  },
  {
   "cell_type": "code",
   "execution_count": 14,
   "metadata": {},
   "outputs": [
    {
     "data": {
      "text/plain": [
       "'M. David Amiel est un député du parti Renaissance. Il représente : Paris (13e circonscription). Voici sa biographie : Né le samedi 28 novembre 1992 à Paris (Paris)Sans profession déclarée'"
      ]
     },
     "execution_count": 14,
     "metadata": {},
     "output_type": "execute_result"
    }
   ],
   "source": [
    "soup.find(\"h1\", class_=\"h1 _mt-small\").text\n",
    "soup.find(\"a\", class_=\"h4 _colored link\").text.strip()\n",
    "soup.find(\"div\", class_=\"_mb-small _centered-text\").find(\"span\").text\n",
    "soup.find(\"div\", class_=\"_gutter-xxs _vertical\").find(\"p\").text\n",
    "\n",
    "soup.find(\"h1\", class_=\"h1 _mt-small\").text + \" est un député du parti \" + soup.find(\"a\", class_=\"h4 _colored link\").text.strip() + \\\n",
    " \". Il représente : \"+ soup.find(\"div\", class_=\"_mb-small _centered-text\").find(\"span\").text + \\\n",
    "    \". Voici sa biographie : \" + soup.find(\"div\", class_=\"_gutter-xxs _vertical\").find(\"p\").text"
   ]
  }
 ],
 "metadata": {
  "kernelspec": {
   "display_name": "NLP",
   "language": "python",
   "name": "python3"
  },
  "language_info": {
   "codemirror_mode": {
    "name": "ipython",
    "version": 3
   },
   "file_extension": ".py",
   "mimetype": "text/x-python",
   "name": "python",
   "nbconvert_exporter": "python",
   "pygments_lexer": "ipython3",
   "version": "3.9.16"
  },
  "orig_nbformat": 4,
  "vscode": {
   "interpreter": {
    "hash": "81de6e05458f24cb15582d6a634ae883d61ebcd960f22cb58032d5851cfddcd5"
   }
  }
 },
 "nbformat": 4,
 "nbformat_minor": 2
}
