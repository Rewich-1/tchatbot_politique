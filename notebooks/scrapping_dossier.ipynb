{
 "cells": [
  {
   "cell_type": "code",
   "execution_count": 1,
   "metadata": {},
   "outputs": [],
   "source": [
    "from bs4 import BeautifulSoup\n",
    "import requests\n",
    "import json"
   ]
  },
  {
   "cell_type": "code",
   "execution_count": 14,
   "metadata": {},
   "outputs": [],
   "source": [
    "url = \"https://www.nosdeputes.fr/dossiers/date\"\n",
    "page = requests.get(url)\n",
    "soup = BeautifulSoup(page.content, \"html.parser\")\n",
    "table = soup.find('div', class_='travaux_parlementaires')\n"
   ]
  },
  {
   "cell_type": "code",
   "execution_count": 17,
   "metadata": {},
   "outputs": [],
   "source": [
    "lis =  table.find('li')\n"
   ]
  },
  {
   "cell_type": "code",
   "execution_count": 21,
   "metadata": {},
   "outputs": [
    {
     "name": "stdout",
     "output_type": "stream",
     "text": [
      "<h3>Février 2023 :</h3>\n",
      "__________________________\n",
      "<ul><li><a href=\"/16/dossier/1582\">Projet de loi de financement rectificative de la sécurité sociale pour 2023</a> (<span class=\"list_inter\">3516 interventions</span>, <span class=\"list_com\">3 commentaires</span>)</li><li><a href=\"/16/dossier/23\">Questions au gouvernement</a> (<span class=\"list_inter\">4144 interventions</span>, <span class=\"list_com\">491 commentaires</span>)</li><li><a href=\"/16/dossier/1705\">Communication de mme la présidente de séance</a> (<span class=\"list_inter\">1 intervention</span>)</li><li><a href=\"/16/dossier/629\">Censure avec exclusion temporaire d'un député</a> (<span class=\"list_inter\">4 interventions</span>, <span class=\"list_com\">5 commentaires</span>)</li><li><a href=\"/16/dossier/1700\">Création d'un défenseur de l'environnement</a> (<span class=\"list_inter\">2 interventions</span>)</li><li><a href=\"/16/dossier/1696\">Renforcement de l'ordonnance de protection</a> (<span class=\"list_inter\">9 interventions</span>)</li><li><a href=\"/16/dossier/1693\">Lutte contre les dérives des influenceurs sur les réseaux sociaux</a> (<span class=\"list_inter\">6 interventions</span>)</li><li><a href=\"/16/dossier/1667\">Protéger le groupe Électricité de france d'un démembrement</a> (<span class=\"list_inter\">381 interventions</span>)</li><li><a href=\"/16/dossier/1682\">Protection des enfants victimes de violences intrafamiliales</a> (<span class=\"list_inter\">128 interventions</span>)</li><li><a href=\"/16/dossier/1656\">Tarif réduit aux étudiants boursiers et précaires</a> (<span class=\"list_inter\">201 interventions</span>, <span class=\"list_com\">2 commentaires</span>)</li><li><a href=\"/16/dossier/1647\">Cout de la vie en outre-mer</a> (<span class=\"list_inter\">88 interventions</span>)</li><li><a href=\"/16/dossier/1645\">Constitution d'une commission spéciale</a> (<span class=\"list_inter\">35 interventions</span>)</li><li><a href=\"/16/dossier/1619\">Hommage aux victimes du séisme en turquie et en syrie</a> (<span class=\"list_inter\">1 intervention</span>)</li><li><a href=\"/16/dossier/752\">Questions orales sans débat</a> (<span class=\"list_inter\">467 interventions</span>, <span class=\"list_com\">1 commentaire</span>)</li><li><a href=\"/16/dossier/530\">Communication de mme la présidente</a></li><li><a href=\"/16/dossier/1574\">Accords sur le partage de l'information maritime et sur la coordination des opérations en mer dans l'océan indien occidental</a> (<span class=\"list_inter\">29 interventions</span>)</li><li><a href=\"/16/dossier/1567\">Conventions d'entraide judiciaire en matière pénale et d'extradition entre la france et le sénégal</a></li></ul>\n",
      "__________________________\n"
     ]
    }
   ],
   "source": [
    "for i in lis:\n",
    "    print(i)\n",
    "    print(\"__________________________\")"
   ]
  },
  {
   "cell_type": "code",
   "execution_count": 34,
   "metadata": {},
   "outputs": [],
   "source": [
    "liss = lis.find_all('li')"
   ]
  },
  {
   "cell_type": "code",
   "execution_count": null,
   "metadata": {},
   "outputs": [],
   "source": [
    "liss[0].find_all('a')"
   ]
  },
  {
   "cell_type": "code",
   "execution_count": 41,
   "metadata": {},
   "outputs": [
    {
     "name": "stdout",
     "output_type": "stream",
     "text": [
      "Projet de loi de financement rectificative de la sécurité sociale pour 2023\n",
      "__________________________\n",
      "Questions au gouvernement\n",
      "__________________________\n",
      "Communication de mme la présidente de séance\n",
      "__________________________\n",
      "Censure avec exclusion temporaire d'un député\n",
      "__________________________\n",
      "Création d'un défenseur de l'environnement\n",
      "__________________________\n",
      "Renforcement de l'ordonnance de protection\n",
      "__________________________\n",
      "Lutte contre les dérives des influenceurs sur les réseaux sociaux\n",
      "__________________________\n",
      "Protéger le groupe Électricité de france d'un démembrement\n",
      "__________________________\n",
      "Protection des enfants victimes de violences intrafamiliales\n",
      "__________________________\n",
      "Tarif réduit aux étudiants boursiers et précaires\n",
      "__________________________\n",
      "Cout de la vie en outre-mer\n",
      "__________________________\n",
      "Constitution d'une commission spéciale\n",
      "__________________________\n",
      "Hommage aux victimes du séisme en turquie et en syrie\n",
      "__________________________\n",
      "Questions orales sans débat\n",
      "__________________________\n",
      "Communication de mme la présidente\n",
      "__________________________\n",
      "Accords sur le partage de l'information maritime et sur la coordination des opérations en mer dans l'océan indien occidental\n",
      "__________________________\n",
      "Conventions d'entraide judiciaire en matière pénale et d'extradition entre la france et le sénégal\n",
      "__________________________\n"
     ]
    }
   ],
   "source": [
    "\n",
    "for i in liss:\n",
    "    oui= i.find('a')\n",
    "    print(oui.text)\n",
    "    print(\"__________________________\")\n"
   ]
  },
  {
   "cell_type": "code",
   "execution_count": null,
   "metadata": {},
   "outputs": [],
   "source": []
  },
  {
   "cell_type": "code",
   "execution_count": 63,
   "metadata": {},
   "outputs": [
    {
     "name": "stdout",
     "output_type": "stream",
     "text": [
      "Février 2023 :\n",
      "Projet de loi de financement rectificative de la sécurité sociale pour 2023\n",
      "Questions au gouvernement\n",
      "Communication de mme la présidente de séance\n",
      "Censure avec exclusion temporaire d'un député\n",
      "Création d'un défenseur de l'environnement\n",
      "Renforcement de l'ordonnance de protection\n",
      "Lutte contre les dérives des influenceurs sur les réseaux sociaux\n",
      "Protéger le groupe Électricité de france d'un démembrement\n",
      "Protection des enfants victimes de violences intrafamiliales\n",
      "Tarif réduit aux étudiants boursiers et précaires\n",
      "Cout de la vie en outre-mer\n",
      "Constitution d'une commission spéciale\n",
      "Hommage aux victimes du séisme en turquie et en syrie\n",
      "Questions orales sans débat\n",
      "Communication de mme la présidente\n",
      "Accords sur le partage de l'information maritime et sur la coordination des opérations en mer dans l'océan indien occidental\n",
      "Conventions d'entraide judiciaire en matière pénale et d'extradition entre la france et le sénégal\n",
      "voici la liste des dossiers de ce mois-ci :Projet de loi de financement rectificative de la sécurité sociale pour 2023 \n",
      "Questions au gouvernement \n",
      "Communication de mme la présidente de séance \n",
      "Censure avec exclusion temporaire d'un député \n",
      "Création d'un défenseur de l'environnement \n",
      "Renforcement de l'ordonnance de protection \n",
      "Lutte contre les dérives des influenceurs sur les réseaux sociaux \n",
      "Protéger le groupe Électricité de france d'un démembrement \n",
      "Protection des enfants victimes de violences intrafamiliales \n",
      "Tarif réduit aux étudiants boursiers et précaires \n",
      "Cout de la vie en outre-mer \n",
      "Constitution d'une commission spéciale \n",
      "Hommage aux victimes du séisme en turquie et en syrie \n",
      "Questions orales sans débat \n",
      "Communication de mme la présidente \n",
      "Accords sur le partage de l'information maritime et sur la coordination des opérations en mer dans l'océan indien occidental \n",
      "Conventions d'entraide judiciaire en matière pénale et d'extradition entre la france et le sénégal \n",
      "\n"
     ]
    }
   ],
   "source": [
    "url = \"https://www.nosdeputes.fr/dossiers/date\"\n",
    "page = requests.get(url)\n",
    "soup = BeautifulSoup(page.content, \"html.parser\")\n",
    "\n",
    "table = soup.find('div', class_='travaux_parlementaires')\n",
    "lis =  table.find('li')\n",
    "date = table.find('h3')\n",
    "print(date.text)\n",
    "liss = lis.find_all('li')\n",
    "\n",
    "list_dossiers = []\n",
    "\n",
    "for i in liss:\n",
    "    dossier = {}\n",
    "    oui= i.find('a')\n",
    "    dossier[\"date\"] = date.text\n",
    "    dossier[\"link\"] = oui['href']\n",
    "    dossier[\"text\"] = oui.text\n",
    "    list_dossiers.append(dossier)\n",
    "\n",
    "value = \"voici la liste des dossiers de ce mois-ci :\"\n",
    "for i in list_dossiers:\n",
    "    value += i['text'] + \" \\n\"\n",
    "    print(i[\"text\"])\n",
    "\n",
    "print(value)\n"
   ]
  },
  {
   "cell_type": "code",
   "execution_count": null,
   "metadata": {},
   "outputs": [],
   "source": []
  },
  {
   "cell_type": "code",
   "execution_count": null,
   "metadata": {},
   "outputs": [],
   "source": []
  }
 ],
 "metadata": {
  "kernelspec": {
   "display_name": "base",
   "language": "python",
   "name": "python3"
  },
  "language_info": {
   "codemirror_mode": {
    "name": "ipython",
    "version": 3
   },
   "file_extension": ".py",
   "mimetype": "text/x-python",
   "name": "python",
   "nbconvert_exporter": "python",
   "pygments_lexer": "ipython3",
   "version": "3.9.13"
  },
  "orig_nbformat": 4,
  "vscode": {
   "interpreter": {
    "hash": "17d203b3035f27d34dcdc2437cbe7b635f83afb10f90c418367e6fba7ea27f11"
   }
  }
 },
 "nbformat": 4,
 "nbformat_minor": 2
}
