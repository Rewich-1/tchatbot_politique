{
 "cells": [
  {
   "cell_type": "code",
   "execution_count": 2,
   "metadata": {},
   "outputs": [],
   "source": [
    "import requests\n",
    "from bs4 import BeautifulSoup\n",
    "\n",
    "URL = \"https://www.nosdeputes.fr/16/dossier/1582\"\n",
    "page = requests.get(URL)\n",
    "\n",
    "soup = BeautifulSoup(page.content, \"html.parser\")"
   ]
  },
  {
   "cell_type": "code",
   "execution_count": 18,
   "metadata": {},
   "outputs": [
    {
     "name": "stdout",
     "output_type": "stream",
     "text": [
      "<a href=\"/16/seance/849#table_1582\">Séance en hémicycle du lundi 6 février 2023 à 16h00</a>\n",
      "/16/seance/849#table_1582\n",
      "<a href=\"/16/seance/850#table_1582\">Séance en hémicycle du lundi 6 février 2023 à 21h30</a>\n",
      "/16/seance/850#table_1582\n",
      "<a href=\"/16/seance/852#table_1582\">Séance en hémicycle du mardi 7 février 2023 à 15h00 (<span class=\"list_com\">26 commentaires</span>)</a>\n",
      "/16/seance/852#table_1582\n",
      "<a href=\"/16/seance/853#table_1582\">Séance en hémicycle du mardi 7 février 2023 à 21h30</a>\n",
      "/16/seance/853#table_1582\n",
      "<a href=\"/16/seance/854#table_1582\">Séance en hémicycle du mercredi 8 février 2023 à 15h00</a>\n",
      "/16/seance/854#table_1582\n",
      "<a href=\"/16/seance/855#table_1582\">Séance en hémicycle du mercredi 8 février 2023 à 21h30</a>\n",
      "/16/seance/855#table_1582\n",
      "<a href=\"/16/seance/859#table_1582\">Séance en hémicycle du vendredi 10 février 2023 à 9h00</a>\n",
      "/16/seance/859#table_1582\n",
      "<a href=\"/16/seance/860#table_1582\">Séance en hémicycle du vendredi 10 février 2023 à 15h00</a>\n",
      "/16/seance/860#table_1582\n",
      "<a href=\"/16/seance/861#table_1582\">Séance en hémicycle du vendredi 10 février 2023 à 21h30</a>\n",
      "/16/seance/861#table_1582\n",
      "<a href=\"/16/seance/865#table_1582\">Séance en hémicycle du lundi 13 février 2023 à 16h00</a>\n",
      "/16/seance/865#table_1582\n",
      "<a href=\"/16/seance/866#table_1582\">Séance en hémicycle du lundi 13 février 2023 à 21h30</a>\n",
      "/16/seance/866#table_1582\n",
      "<a href=\"/16/seance/867#table_1582\">Séance en hémicycle du mardi 14 février 2023 à 15h00</a>\n",
      "/16/seance/867#table_1582\n",
      "<a href=\"/16/seance/868#table_1582\">Séance en hémicycle du mardi 14 février 2023 à 21h30</a>\n",
      "/16/seance/868#table_1582\n"
     ]
    }
   ],
   "source": [
    "job_elements = soup.find(\"div\", class_=\"seances_dossier\").find_all(\"a\")\n",
    "\n",
    "for job_element in job_elements:\n",
    "    print(job_element)\n",
    "    print(job_element.get(\"href\"))"
   ]
  },
  {
   "cell_type": "code",
   "execution_count": 21,
   "metadata": {},
   "outputs": [
    {
     "name": "stdout",
     "output_type": "stream",
     "text": [
      "/16/seance/849#table_1582\n"
     ]
    }
   ],
   "source": [
    "tmp = job_elements[0].get(\"href\")\n",
    "print(tmp)\n",
    "\n",
    "URL = \"https://www.nosdeputes.fr\"+tmp\n",
    "page = requests.get(URL)\n",
    "\n",
    "soup = BeautifulSoup(page.content, \"html.parser\")"
   ]
  },
  {
   "cell_type": "code",
   "execution_count": 30,
   "metadata": {},
   "outputs": [
    {
     "name": "stdout",
     "output_type": "stream",
     "text": [
      "<div class=\"intervention\" id=\"inter_10a149442c87d8cf530fabb407e884b7\">\n",
      "<div id=\"table_1582\"><span class=\"source\"><a href=\"#sommaire\">Retour au sommaire</a> - <a href=\"#table_1582\">Permalien</a></span><br/><h2 class=\"section\"><a href=\"/16/dossier/1582\">Projet de loi de financement rectificative de la sécurité sociale pour 2023</a></h2> </div></div>\n",
      "None\n"
     ]
    }
   ],
   "source": [
    "interventions = soup.find_all(\"div\", class_=\"intervention\")\n",
    "\n",
    "for i in range(0, len(interventions)):\n",
    "    inter = interventions[i]\n",
    "    if inter.find(\"div\", id=\"table_1582\"):\n",
    "        print(inter)\n",
    "        interventions = interventions[i:]\n",
    "        break"
   ]
  },
  {
   "cell_type": "code",
   "execution_count": null,
   "metadata": {},
   "outputs": [],
   "source": [
    "for interventions in interventions:\n",
    "    if inter.find(\"div\", id=\"table_1582\"):\n",
    "        print(inter)"
   ]
  }
 ],
 "metadata": {
  "kernelspec": {
   "display_name": "base",
   "language": "python",
   "name": "python3"
  },
  "language_info": {
   "codemirror_mode": {
    "name": "ipython",
    "version": 3
   },
   "file_extension": ".py",
   "mimetype": "text/x-python",
   "name": "python",
   "nbconvert_exporter": "python",
   "pygments_lexer": "ipython3",
   "version": "3.9.13"
  },
  "orig_nbformat": 4,
  "vscode": {
   "interpreter": {
    "hash": "17d203b3035f27d34dcdc2437cbe7b635f83afb10f90c418367e6fba7ea27f11"
   }
  }
 },
 "nbformat": 4,
 "nbformat_minor": 2
}
