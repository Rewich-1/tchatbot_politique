{
 "cells": [
  {
   "cell_type": "code",
   "execution_count": 2,
   "metadata": {},
   "outputs": [],
   "source": [
    "import requests\n",
    "from bs4 import BeautifulSoup\n",
    "\n",
    "URL = \"https://www.nosdeputes.fr/16/dossier/1582\"\n",
    "page = requests.get(URL)\n",
    "\n",
    "soup = BeautifulSoup(page.content, \"html.parser\")"
   ]
  },
  {
   "cell_type": "code",
   "execution_count": 3,
   "metadata": {},
   "outputs": [
    {
     "name": "stdout",
     "output_type": "stream",
     "text": [
      "<a href=\"/16/seance/849#table_1582\">Séance en hémicycle du lundi 6 février 2023 à 16h00</a>\n",
      "/16/seance/849#table_1582\n",
      "<a href=\"/16/seance/850#table_1582\">Séance en hémicycle du lundi 6 février 2023 à 21h30</a>\n",
      "/16/seance/850#table_1582\n",
      "<a href=\"/16/seance/852#table_1582\">Séance en hémicycle du mardi 7 février 2023 à 15h00 (<span class=\"list_com\">26 commentaires</span>)</a>\n",
      "/16/seance/852#table_1582\n",
      "<a href=\"/16/seance/853#table_1582\">Séance en hémicycle du mardi 7 février 2023 à 21h30</a>\n",
      "/16/seance/853#table_1582\n",
      "<a href=\"/16/seance/854#table_1582\">Séance en hémicycle du mercredi 8 février 2023 à 15h00</a>\n",
      "/16/seance/854#table_1582\n",
      "<a href=\"/16/seance/855#table_1582\">Séance en hémicycle du mercredi 8 février 2023 à 21h30</a>\n",
      "/16/seance/855#table_1582\n",
      "<a href=\"/16/seance/859#table_1582\">Séance en hémicycle du vendredi 10 février 2023 à 9h00</a>\n",
      "/16/seance/859#table_1582\n",
      "<a href=\"/16/seance/860#table_1582\">Séance en hémicycle du vendredi 10 février 2023 à 15h00</a>\n",
      "/16/seance/860#table_1582\n",
      "<a href=\"/16/seance/861#table_1582\">Séance en hémicycle du vendredi 10 février 2023 à 21h30</a>\n",
      "/16/seance/861#table_1582\n",
      "<a href=\"/16/seance/865#table_1582\">Séance en hémicycle du lundi 13 février 2023 à 16h00</a>\n",
      "/16/seance/865#table_1582\n",
      "<a href=\"/16/seance/866#table_1582\">Séance en hémicycle du lundi 13 février 2023 à 21h30</a>\n",
      "/16/seance/866#table_1582\n",
      "<a href=\"/16/seance/867#table_1582\">Séance en hémicycle du mardi 14 février 2023 à 15h00</a>\n",
      "/16/seance/867#table_1582\n",
      "<a href=\"/16/seance/868#table_1582\">Séance en hémicycle du mardi 14 février 2023 à 21h30</a>\n",
      "/16/seance/868#table_1582\n"
     ]
    }
   ],
   "source": [
    "job_elements = soup.find(\"div\", class_=\"seances_dossier\").find_all(\"a\")\n",
    "\n",
    "for job_element in job_elements:\n",
    "    print(job_element)\n",
    "    print(job_element.get(\"href\"))"
   ]
  },
  {
   "cell_type": "code",
   "execution_count": 4,
   "metadata": {},
   "outputs": [
    {
     "name": "stdout",
     "output_type": "stream",
     "text": [
      "/16/seance/849#table_1582\n"
     ]
    }
   ],
   "source": [
    "tmp = job_elements[0].get(\"href\")\n",
    "print(tmp)\n",
    "\n",
    "URL = \"https://www.nosdeputes.fr\"+tmp\n",
    "page = requests.get(URL)\n",
    "\n",
    "soup = BeautifulSoup(page.content, \"html.parser\")"
   ]
  },
  {
   "cell_type": "code",
   "execution_count": 12,
   "metadata": {},
   "outputs": [
    {
     "name": "stdout",
     "output_type": "stream",
     "text": [
      "<div class=\"intervention\" id=\"inter_10a149442c87d8cf530fabb407e884b7\">\n",
      "<div id=\"table_1582\"><span class=\"source\"><a href=\"#sommaire\">Retour au sommaire</a> - <a href=\"#table_1582\">Permalien</a></span><br/><h2 class=\"section\"><a href=\"/16/dossier/1582\">Projet de loi de financement rectificative de la sécurité sociale pour 2023</a></h2> </div></div>\n"
     ]
    }
   ],
   "source": [
    "interventions = soup.find_all(\"div\", class_=\"intervention\")\n",
    "folder_name = \"\"\n",
    "for i in range(0, len(interventions)):\n",
    "    inter = interventions[i]\n",
    "    if inter.find(\"div\", id=\"table_1582\"):\n",
    "        print(inter)\n",
    "        folder_name = inter.find(\"h2\", {'class': 'section'}).text\n",
    "        interventions = interventions[i:]\n",
    "        break"
   ]
  },
  {
   "cell_type": "code",
   "execution_count": 13,
   "metadata": {},
   "outputs": [],
   "source": [
    "for i in range(0, len(interventions)):\n",
    "    inter = interventions[i]\n",
    "    if not inter.find(\"div\", {'class': 'intervenant'}):\n",
    "        if inter.find(\"h2\", {'class': 'section'}).text != folder_name:\n",
    "            interventions = interventions[:i]\n",
    "            break"
   ]
  },
  {
   "cell_type": "code",
   "execution_count": 32,
   "metadata": {},
   "outputs": [],
   "source": [
    "dataframe = []\n",
    "\n",
    "for inter in interventions:\n",
    "    intervenant = inter.find(\"div\", {'class': 'intervenant'})\n",
    "    if intervenant and not intervenant.find(\"div\", {'class': 'didascalie'}) \\\n",
    "    and intervenant.find('img', {'class': 'jstitle'}):\n",
    "        text = intervenant.find('img', {'class': 'jstitle'})['title']\n",
    "        name, group = text.split(' -- ')[0], text.split(' -- ')[1]\n",
    "        group = group.strip('()')\n",
    "        group_name, group_parlementaire = group.split(':')\n",
    "        dataframe.append({\n",
    "            \"intervenant\" : name,\n",
    "            \"parti\" : group_parlementaire.strip(),\n",
    "            \"intervention\" : intervenant.find(\"div\", {'class': 'texte_intervention'}).text\n",
    "        })\n",
    "    "
   ]
  },
  {
   "cell_type": "code",
   "execution_count": 2,
   "metadata": {},
   "outputs": [
    {
     "data": {
      "text/html": [
       "<div>\n",
       "<style scoped>\n",
       "    .dataframe tbody tr th:only-of-type {\n",
       "        vertical-align: middle;\n",
       "    }\n",
       "\n",
       "    .dataframe tbody tr th {\n",
       "        vertical-align: top;\n",
       "    }\n",
       "\n",
       "    .dataframe thead th {\n",
       "        text-align: right;\n",
       "    }\n",
       "</style>\n",
       "<table border=\"1\" class=\"dataframe\">\n",
       "  <thead>\n",
       "    <tr style=\"text-align: right;\">\n",
       "      <th></th>\n",
       "      <th>intervenant</th>\n",
       "      <th>parti</th>\n",
       "      <th>intervention</th>\n",
       "    </tr>\n",
       "  </thead>\n",
       "  <tbody>\n",
       "    <tr>\n",
       "      <th>0</th>\n",
       "      <td>Yaël Braun-Pivet</td>\n",
       "      <td>REN</td>\n",
       "      <td>\\nL'ordre du jour appelle la discussion du pro...</td>\n",
       "    </tr>\n",
       "    <tr>\n",
       "      <th>1</th>\n",
       "      <td>Danièle Obono</td>\n",
       "      <td>LFI</td>\n",
       "      <td>\\nNon, pas question !</td>\n",
       "    </tr>\n",
       "    <tr>\n",
       "      <th>2</th>\n",
       "      <td>Louis Boyard</td>\n",
       "      <td>LFI</td>\n",
       "      <td>\\nNon, ça ne va pas se passer comme ça ! Vous ...</td>\n",
       "    </tr>\n",
       "    <tr>\n",
       "      <th>3</th>\n",
       "      <td>Yaël Braun-Pivet</td>\n",
       "      <td>REN</td>\n",
       "      <td>\\nLa parole est à M. le ministre du travail, d...</td>\n",
       "    </tr>\n",
       "    <tr>\n",
       "      <th>4</th>\n",
       "      <td>André Chassaigne</td>\n",
       "      <td>GDR</td>\n",
       "      <td>\\nSuspension ! La suspension est de droit !</td>\n",
       "    </tr>\n",
       "  </tbody>\n",
       "</table>\n",
       "</div>"
      ],
      "text/plain": [
       "        intervenant parti                                       intervention\n",
       "0  Yaël Braun-Pivet   REN  \\nL'ordre du jour appelle la discussion du pro...\n",
       "1     Danièle Obono   LFI                             \\nNon, pas question ! \n",
       "2      Louis Boyard   LFI  \\nNon, ça ne va pas se passer comme ça ! Vous ...\n",
       "3  Yaël Braun-Pivet   REN  \\nLa parole est à M. le ministre du travail, d...\n",
       "4  André Chassaigne   GDR       \\nSuspension ! La suspension est de droit ! "
      ]
     },
     "execution_count": 2,
     "metadata": {},
     "output_type": "execute_result"
    }
   ],
   "source": [
    "import requests\n",
    "from bs4 import BeautifulSoup\n",
    "\n",
    "URL_du_dossier = \"https://www.nosdeputes.fr/16/dossier/1582\"\n",
    "page_dossier = requests.get(URL_du_dossier)\n",
    "\n",
    "soup = BeautifulSoup(page_dossier.content, \"html.parser\")\n",
    "\n",
    "sceances = soup.find(\"div\", class_=\"seances_dossier\").find_all(\"a\")\n",
    "\n",
    "dataframe = []\n",
    "\n",
    "for sceance in sceances:\n",
    "    URL_sceance = sceance.get(\"href\")\n",
    "    URL_sceance = \"https://www.nosdeputes.fr\"+URL_sceance\n",
    "    page_sceance = requests.get(URL_sceance)\n",
    "\n",
    "    soup = BeautifulSoup(page_sceance.content, \"html.parser\")\n",
    "\n",
    "    #We get every intervention done in the sceance\n",
    "    interventions = soup.find_all(\"div\", class_=\"intervention\")\n",
    "    folder_name = \"\"\n",
    "\n",
    "    #We filter the first lines of off topic discussions\n",
    "    for i in range(0, len(interventions)):\n",
    "        inter = interventions[i]\n",
    "        if inter.find(\"div\", id=\"table_1582\"):\n",
    "            folder_name = inter.find(\"h2\", {'class': 'section'}).text\n",
    "            interventions = interventions[i:]\n",
    "            break\n",
    "    \n",
    "    #And the last lines of off topic discussions\n",
    "    for i in range(0, len(interventions)):\n",
    "        inter = interventions[i]\n",
    "        if not inter.find(\"div\", {'class': 'intervenant'}):\n",
    "            if inter.find(\"h2\", {'class': 'section'}).text != folder_name:\n",
    "                interventions = interventions[:i]\n",
    "                break\n",
    "    \n",
    "    #Now based on what remains we build our dataframe of interventions\n",
    "    for inter in interventions:\n",
    "        intervenant = inter.find(\"div\", {'class': 'intervenant'})\n",
    "        #We filter the interventions that are not from a person\n",
    "        if intervenant and not intervenant.find(\"div\", {'class': 'didascalie'}) \\\n",
    "        and intervenant.find('img', {'class': 'jstitle'}):\n",
    "            text = intervenant.find('img', {'class': 'jstitle'})['title']\n",
    "            name, group = text.split(' -- ')[0], text.split(' -- ')[1]\n",
    "            group = group.strip('()')\n",
    "            group_name, group_parlementaire = group.split(':')\n",
    "            dataframe.append({\n",
    "                \"intervenant\" : name,\n",
    "                \"parti\" : group_parlementaire.strip(),\n",
    "                \"intervention\" : intervenant.find(\"div\", {'class': 'texte_intervention'}).text\n",
    "            })\n",
    "\n",
    "import pandas as pd\n",
    "df = pd.DataFrame(dataframe)\n",
    "df.head()"
   ]
  },
  {
   "cell_type": "code",
   "execution_count": 3,
   "metadata": {},
   "outputs": [
    {
     "data": {
      "text/plain": [
       "(7381, 3)"
      ]
     },
     "execution_count": 3,
     "metadata": {},
     "output_type": "execute_result"
    }
   ],
   "source": [
    "df.shape"
   ]
  },
  {
   "cell_type": "code",
   "execution_count": 4,
   "metadata": {},
   "outputs": [],
   "source": [
    "df.to_csv(\"tmp/interventions.csv\", index=False)"
   ]
  }
 ],
 "metadata": {
  "kernelspec": {
   "display_name": "Python 3",
   "language": "python",
   "name": "python3"
  },
  "language_info": {
   "codemirror_mode": {
    "name": "ipython",
    "version": 3
   },
   "file_extension": ".py",
   "mimetype": "text/x-python",
   "name": "python",
   "nbconvert_exporter": "python",
   "pygments_lexer": "ipython3",
   "version": "3.11.0"
  },
  "orig_nbformat": 4,
  "vscode": {
   "interpreter": {
    "hash": "11b56a382828864c4380454d83825ea45435331ac733bae7e00e85b9b1e9241d"
   }
  }
 },
 "nbformat": 4,
 "nbformat_minor": 2
}
